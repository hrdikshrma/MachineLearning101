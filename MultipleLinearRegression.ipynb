{
 "cells": [
  {
   "cell_type": "code",
   "execution_count": 1,
   "id": "29080cca",
   "metadata": {},
   "outputs": [
    {
     "name": "stderr",
     "output_type": "stream",
     "text": [
      "/Users/hardiksharma/anaconda3/lib/python3.10/site-packages/pandas/core/arrays/masked.py:60: UserWarning: Pandas requires version '1.3.6' or newer of 'bottleneck' (version '1.3.5' currently installed).\n",
      "  from pandas.core import (\n"
     ]
    }
   ],
   "source": [
    "import pandas as pd\n",
    "import numpy as np\n",
    "import matplotlib.pyplot as plt\n",
    "import seaborn as sns\n",
    "%matplotlib inline\n",
    "sns.set()\n",
    "pd.set_option('display.max_columns', None)"
   ]
  },
  {
   "cell_type": "code",
   "execution_count": 2,
   "id": "1551feef",
   "metadata": {},
   "outputs": [],
   "source": [
    "# data = https://www.kaggle.com/datasets/zahidmughal2343/global-cancer-patients-2015-2024/code\n",
    "data = pd.read_csv(\"Data/MLR_Data.csv\")"
   ]
  },
  {
   "cell_type": "code",
   "execution_count": 3,
   "id": "0fe7413a",
   "metadata": {},
   "outputs": [
    {
     "name": "stdout",
     "output_type": "stream",
     "text": [
      "  Patient_ID  Age  Gender Country_Region  Year  Genetic_Risk  Air_Pollution  \\\n",
      "0  PT0000000   71    Male             UK  2021           6.4            2.8   \n",
      "1  PT0000001   34    Male          China  2021           1.3            4.5   \n",
      "2  PT0000002   80    Male       Pakistan  2023           7.4            7.9   \n",
      "3  PT0000003   40    Male             UK  2015           1.7            2.9   \n",
      "4  PT0000004   43  Female         Brazil  2017           5.1            2.8   \n",
      "\n",
      "   Alcohol_Use  Smoking  Obesity_Level Cancer_Type Cancer_Stage  \\\n",
      "0          9.5      0.9            8.7        Lung    Stage III   \n",
      "1          3.7      3.9            6.3    Leukemia      Stage 0   \n",
      "2          2.4      4.7            0.1      Breast     Stage II   \n",
      "3          4.8      3.5            2.7       Colon      Stage I   \n",
      "4          2.3      6.7            0.5        Skin    Stage III   \n",
      "\n",
      "   Treatment_Cost_USD  Survival_Years  Target_Severity_Score  \n",
      "0            62913.44             5.9                   4.92  \n",
      "1            12573.41             4.7                   4.65  \n",
      "2             6984.33             7.1                   5.84  \n",
      "3            67446.25             1.6                   3.12  \n",
      "4            77977.12             2.9                   3.62  \n"
     ]
    }
   ],
   "source": [
    "print(data.head())\n",
    "#drop the ID column as we do not need it\n",
    "data.drop('Patient_ID', axis=1, inplace=True)"
   ]
  },
  {
   "cell_type": "markdown",
   "id": "01d62dab",
   "metadata": {},
   "source": [
    "## Step 1 : Know your data"
   ]
  },
  {
   "cell_type": "code",
   "execution_count": 4,
   "id": "f166f833",
   "metadata": {},
   "outputs": [
    {
     "name": "stdout",
     "output_type": "stream",
     "text": [
      "(50000, 14)\n",
      "Age                      0\n",
      "Gender                   0\n",
      "Country_Region           0\n",
      "Year                     0\n",
      "Genetic_Risk             0\n",
      "Air_Pollution            0\n",
      "Alcohol_Use              0\n",
      "Smoking                  0\n",
      "Obesity_Level            0\n",
      "Cancer_Type              0\n",
      "Cancer_Stage             0\n",
      "Treatment_Cost_USD       0\n",
      "Survival_Years           0\n",
      "Target_Severity_Score    0\n",
      "dtype: int64\n",
      "<bound method NDFrame.describe of        Age  Gender Country_Region  Year  Genetic_Risk  Air_Pollution  \\\n",
      "0       71    Male             UK  2021           6.4            2.8   \n",
      "1       34    Male          China  2021           1.3            4.5   \n",
      "2       80    Male       Pakistan  2023           7.4            7.9   \n",
      "3       40    Male             UK  2015           1.7            2.9   \n",
      "4       43  Female         Brazil  2017           5.1            2.8   \n",
      "...    ...     ...            ...   ...           ...            ...   \n",
      "49995   80    Male       Pakistan  2023           2.3            7.5   \n",
      "49996   40  Female            USA  2018           6.4            3.5   \n",
      "49997   74    Male       Pakistan  2015           6.2            1.6   \n",
      "49998   21    Male         Brazil  2018           4.0            6.5   \n",
      "49999   22    Male       Pakistan  2023           5.1            9.8   \n",
      "\n",
      "       Alcohol_Use  Smoking  Obesity_Level Cancer_Type Cancer_Stage  \\\n",
      "0              9.5      0.9            8.7        Lung    Stage III   \n",
      "1              3.7      3.9            6.3    Leukemia      Stage 0   \n",
      "2              2.4      4.7            0.1      Breast     Stage II   \n",
      "3              4.8      3.5            2.7       Colon      Stage I   \n",
      "4              2.3      6.7            0.5        Skin    Stage III   \n",
      "...            ...      ...            ...         ...          ...   \n",
      "49995          2.8      3.8            2.9    Leukemia      Stage 0   \n",
      "49996          2.9      9.0            9.8       Colon      Stage I   \n",
      "49997          8.7      4.7            4.0      Breast      Stage 0   \n",
      "49998          7.6      8.6            8.1       Liver     Stage IV   \n",
      "49999          3.2      0.0            0.7       Liver      Stage 0   \n",
      "\n",
      "       Treatment_Cost_USD  Survival_Years  Target_Severity_Score  \n",
      "0                62913.44             5.9                   4.92  \n",
      "1                12573.41             4.7                   4.65  \n",
      "2                 6984.33             7.1                   5.84  \n",
      "3                67446.25             1.6                   3.12  \n",
      "4                77977.12             2.9                   3.62  \n",
      "...                   ...             ...                    ...  \n",
      "49995            71463.70             1.0                   3.63  \n",
      "49996            49619.66             0.4                   6.03  \n",
      "49997             5338.25             2.7                   6.02  \n",
      "49998            45100.47             7.5                   6.54  \n",
      "49999            64023.82             7.4                   3.76  \n",
      "\n",
      "[50000 rows x 14 columns]>\n"
     ]
    }
   ],
   "source": [
    "print(data.shape)\n",
    "print(data.isnull().sum())\n",
    "print(data.describe)"
   ]
  },
  {
   "cell_type": "markdown",
   "id": "5abac877",
   "metadata": {},
   "source": [
    "## Step 2 : Divide the data into dependent and independent feature"
   ]
  },
  {
   "cell_type": "code",
   "execution_count": 5,
   "id": "15a96bc0",
   "metadata": {},
   "outputs": [],
   "source": [
    "X = data.iloc[:,:-1] # all features except the last\n",
    "y = data.iloc[:,-1] # the last feature"
   ]
  },
  {
   "cell_type": "markdown",
   "id": "7877ad47",
   "metadata": {},
   "source": [
    "## Step 3 : Train and Test split"
   ]
  },
  {
   "cell_type": "code",
   "execution_count": 6,
   "id": "2a5e97e2",
   "metadata": {},
   "outputs": [
    {
     "name": "stdout",
     "output_type": "stream",
     "text": [
      "(37500, 13)\n",
      "(12500, 13)\n",
      "(37500,)\n",
      "(12500,)\n"
     ]
    }
   ],
   "source": [
    "from sklearn.model_selection import train_test_split\n",
    "X_train, X_test, y_train, y_test = train_test_split(X,y, test_size=0.25)\n",
    "\n",
    "print(X_train.shape)\n",
    "print(X_test.shape)\n",
    "print(y_train.shape)\n",
    "print(y_test.shape)"
   ]
  },
  {
   "cell_type": "markdown",
   "id": "08985a8d",
   "metadata": {},
   "source": [
    "## Step  4 : Handling categorical data and scaling values"
   ]
  },
  {
   "cell_type": "code",
   "execution_count": 7,
   "id": "f768f203",
   "metadata": {},
   "outputs": [
    {
     "name": "stdout",
     "output_type": "stream",
     "text": [
      "<class 'pandas.core.frame.DataFrame'>\n",
      "Index: 37500 entries, 24295 to 47493\n",
      "Data columns (total 13 columns):\n",
      " #   Column              Non-Null Count  Dtype  \n",
      "---  ------              --------------  -----  \n",
      " 0   Age                 37500 non-null  int64  \n",
      " 1   Gender              37500 non-null  object \n",
      " 2   Country_Region      37500 non-null  object \n",
      " 3   Year                37500 non-null  int64  \n",
      " 4   Genetic_Risk        37500 non-null  float64\n",
      " 5   Air_Pollution       37500 non-null  float64\n",
      " 6   Alcohol_Use         37500 non-null  float64\n",
      " 7   Smoking             37500 non-null  float64\n",
      " 8   Obesity_Level       37500 non-null  float64\n",
      " 9   Cancer_Type         37500 non-null  object \n",
      " 10  Cancer_Stage        37500 non-null  object \n",
      " 11  Treatment_Cost_USD  37500 non-null  float64\n",
      " 12  Survival_Years      37500 non-null  float64\n",
      "dtypes: float64(7), int64(2), object(4)\n",
      "memory usage: 4.0+ MB\n",
      "<class 'pandas.core.frame.DataFrame'>\n",
      "Index: 12500 entries, 29694 to 11970\n",
      "Data columns (total 13 columns):\n",
      " #   Column              Non-Null Count  Dtype  \n",
      "---  ------              --------------  -----  \n",
      " 0   Age                 12500 non-null  int64  \n",
      " 1   Gender              12500 non-null  object \n",
      " 2   Country_Region      12500 non-null  object \n",
      " 3   Year                12500 non-null  int64  \n",
      " 4   Genetic_Risk        12500 non-null  float64\n",
      " 5   Air_Pollution       12500 non-null  float64\n",
      " 6   Alcohol_Use         12500 non-null  float64\n",
      " 7   Smoking             12500 non-null  float64\n",
      " 8   Obesity_Level       12500 non-null  float64\n",
      " 9   Cancer_Type         12500 non-null  object \n",
      " 10  Cancer_Stage        12500 non-null  object \n",
      " 11  Treatment_Cost_USD  12500 non-null  float64\n",
      " 12  Survival_Years      12500 non-null  float64\n",
      "dtypes: float64(7), int64(2), object(4)\n",
      "memory usage: 1.3+ MB\n"
     ]
    },
    {
     "data": {
      "text/plain": [
       "(None, None)"
      ]
     },
     "execution_count": 7,
     "metadata": {},
     "output_type": "execute_result"
    }
   ],
   "source": [
    "X_train.info(), X_test.info()"
   ]
  },
  {
   "cell_type": "code",
   "execution_count": 8,
   "id": "7806eca0",
   "metadata": {},
   "outputs": [
    {
     "data": {
      "text/plain": [
       "(Index(['Age', 'Gender', 'Country_Region', 'Year', 'Genetic_Risk',\n",
       "        'Air_Pollution', 'Alcohol_Use', 'Smoking', 'Obesity_Level',\n",
       "        'Cancer_Type', 'Cancer_Stage', 'Treatment_Cost_USD', 'Survival_Years'],\n",
       "       dtype='object'),\n",
       " Index(['Age', 'Gender', 'Country_Region', 'Year', 'Genetic_Risk',\n",
       "        'Air_Pollution', 'Alcohol_Use', 'Smoking', 'Obesity_Level',\n",
       "        'Cancer_Type', 'Cancer_Stage', 'Treatment_Cost_USD', 'Survival_Years'],\n",
       "       dtype='object'))"
      ]
     },
     "execution_count": 8,
     "metadata": {},
     "output_type": "execute_result"
    }
   ],
   "source": [
    "X_train.columns, X_test.columns"
   ]
  },
  {
   "cell_type": "code",
   "execution_count": 9,
   "id": "621572dd",
   "metadata": {},
   "outputs": [],
   "source": [
    "from sklearn.preprocessing import StandardScaler\n",
    "\n",
    "categorical_features = ['Gender','Country_Region', 'Cancer_Type', 'Cancer_Stage']\n",
    "numeric_features = ['Age', 'Year', 'Genetic_Risk','Air_Pollution', 'Alcohol_Use', 'Smoking', 'Obesity_Level', 'Treatment_Cost_USD', 'Survival_Years']\n",
    "\n",
    "# Convert categorical to category dtype\n",
    "for col in categorical_features:\n",
    "    X_train[col] = X_train[col].astype('category')\n",
    "    X_test[col] = X_test[col].astype('category')\n",
    "\n",
    "# One-hot encode (fit only on X_train, align X_test)\n",
    "X_train_encoded = pd.get_dummies(X_train[categorical_features], drop_first=True)\n",
    "X_test_encoded = pd.get_dummies(X_test[categorical_features], drop_first=True)\n",
    "\n",
    "# Align test set to training set to ensure same columns\n",
    "X_test_encoded = X_test_encoded.reindex(columns=X_train_encoded.columns, fill_value=0)\n",
    "\n",
    "# Scale numeric features (fit scaler on train only)\n",
    "scaler = StandardScaler()\n",
    "X_train_scaled = pd.DataFrame(scaler.fit_transform(X_train[numeric_features]),\n",
    "                              columns=numeric_features,\n",
    "                              index=X_train.index)\n",
    "\n",
    "X_test_scaled = pd.DataFrame(scaler.transform(X_test[numeric_features]),\n",
    "                             columns=numeric_features,\n",
    "                             index=X_test.index)\n",
    "\n",
    "# Combine scaled numeric and encoded categorical\n",
    "X_train_final = pd.concat([X_train_scaled, X_train_encoded], axis=1)\n",
    "X_test_final = pd.concat([X_test_scaled, X_test_encoded], axis=1)"
   ]
  },
  {
   "cell_type": "markdown",
   "id": "0701d5e9",
   "metadata": {},
   "source": [
    "## Step 5 : Apply Multiple Linear Regression "
   ]
  },
  {
   "cell_type": "code",
   "execution_count": 10,
   "id": "6898567a",
   "metadata": {},
   "outputs": [
    {
     "data": {
      "text/html": [
       "<style>#sk-container-id-1 {\n",
       "  /* Definition of color scheme common for light and dark mode */\n",
       "  --sklearn-color-text: black;\n",
       "  --sklearn-color-line: gray;\n",
       "  /* Definition of color scheme for unfitted estimators */\n",
       "  --sklearn-color-unfitted-level-0: #fff5e6;\n",
       "  --sklearn-color-unfitted-level-1: #f6e4d2;\n",
       "  --sklearn-color-unfitted-level-2: #ffe0b3;\n",
       "  --sklearn-color-unfitted-level-3: chocolate;\n",
       "  /* Definition of color scheme for fitted estimators */\n",
       "  --sklearn-color-fitted-level-0: #f0f8ff;\n",
       "  --sklearn-color-fitted-level-1: #d4ebff;\n",
       "  --sklearn-color-fitted-level-2: #b3dbfd;\n",
       "  --sklearn-color-fitted-level-3: cornflowerblue;\n",
       "\n",
       "  /* Specific color for light theme */\n",
       "  --sklearn-color-text-on-default-background: var(--sg-text-color, var(--theme-code-foreground, var(--jp-content-font-color1, black)));\n",
       "  --sklearn-color-background: var(--sg-background-color, var(--theme-background, var(--jp-layout-color0, white)));\n",
       "  --sklearn-color-border-box: var(--sg-text-color, var(--theme-code-foreground, var(--jp-content-font-color1, black)));\n",
       "  --sklearn-color-icon: #696969;\n",
       "\n",
       "  @media (prefers-color-scheme: dark) {\n",
       "    /* Redefinition of color scheme for dark theme */\n",
       "    --sklearn-color-text-on-default-background: var(--sg-text-color, var(--theme-code-foreground, var(--jp-content-font-color1, white)));\n",
       "    --sklearn-color-background: var(--sg-background-color, var(--theme-background, var(--jp-layout-color0, #111)));\n",
       "    --sklearn-color-border-box: var(--sg-text-color, var(--theme-code-foreground, var(--jp-content-font-color1, white)));\n",
       "    --sklearn-color-icon: #878787;\n",
       "  }\n",
       "}\n",
       "\n",
       "#sk-container-id-1 {\n",
       "  color: var(--sklearn-color-text);\n",
       "}\n",
       "\n",
       "#sk-container-id-1 pre {\n",
       "  padding: 0;\n",
       "}\n",
       "\n",
       "#sk-container-id-1 input.sk-hidden--visually {\n",
       "  border: 0;\n",
       "  clip: rect(1px 1px 1px 1px);\n",
       "  clip: rect(1px, 1px, 1px, 1px);\n",
       "  height: 1px;\n",
       "  margin: -1px;\n",
       "  overflow: hidden;\n",
       "  padding: 0;\n",
       "  position: absolute;\n",
       "  width: 1px;\n",
       "}\n",
       "\n",
       "#sk-container-id-1 div.sk-dashed-wrapped {\n",
       "  border: 1px dashed var(--sklearn-color-line);\n",
       "  margin: 0 0.4em 0.5em 0.4em;\n",
       "  box-sizing: border-box;\n",
       "  padding-bottom: 0.4em;\n",
       "  background-color: var(--sklearn-color-background);\n",
       "}\n",
       "\n",
       "#sk-container-id-1 div.sk-container {\n",
       "  /* jupyter's `normalize.less` sets `[hidden] { display: none; }`\n",
       "     but bootstrap.min.css set `[hidden] { display: none !important; }`\n",
       "     so we also need the `!important` here to be able to override the\n",
       "     default hidden behavior on the sphinx rendered scikit-learn.org.\n",
       "     See: https://github.com/scikit-learn/scikit-learn/issues/21755 */\n",
       "  display: inline-block !important;\n",
       "  position: relative;\n",
       "}\n",
       "\n",
       "#sk-container-id-1 div.sk-text-repr-fallback {\n",
       "  display: none;\n",
       "}\n",
       "\n",
       "div.sk-parallel-item,\n",
       "div.sk-serial,\n",
       "div.sk-item {\n",
       "  /* draw centered vertical line to link estimators */\n",
       "  background-image: linear-gradient(var(--sklearn-color-text-on-default-background), var(--sklearn-color-text-on-default-background));\n",
       "  background-size: 2px 100%;\n",
       "  background-repeat: no-repeat;\n",
       "  background-position: center center;\n",
       "}\n",
       "\n",
       "/* Parallel-specific style estimator block */\n",
       "\n",
       "#sk-container-id-1 div.sk-parallel-item::after {\n",
       "  content: \"\";\n",
       "  width: 100%;\n",
       "  border-bottom: 2px solid var(--sklearn-color-text-on-default-background);\n",
       "  flex-grow: 1;\n",
       "}\n",
       "\n",
       "#sk-container-id-1 div.sk-parallel {\n",
       "  display: flex;\n",
       "  align-items: stretch;\n",
       "  justify-content: center;\n",
       "  background-color: var(--sklearn-color-background);\n",
       "  position: relative;\n",
       "}\n",
       "\n",
       "#sk-container-id-1 div.sk-parallel-item {\n",
       "  display: flex;\n",
       "  flex-direction: column;\n",
       "}\n",
       "\n",
       "#sk-container-id-1 div.sk-parallel-item:first-child::after {\n",
       "  align-self: flex-end;\n",
       "  width: 50%;\n",
       "}\n",
       "\n",
       "#sk-container-id-1 div.sk-parallel-item:last-child::after {\n",
       "  align-self: flex-start;\n",
       "  width: 50%;\n",
       "}\n",
       "\n",
       "#sk-container-id-1 div.sk-parallel-item:only-child::after {\n",
       "  width: 0;\n",
       "}\n",
       "\n",
       "/* Serial-specific style estimator block */\n",
       "\n",
       "#sk-container-id-1 div.sk-serial {\n",
       "  display: flex;\n",
       "  flex-direction: column;\n",
       "  align-items: center;\n",
       "  background-color: var(--sklearn-color-background);\n",
       "  padding-right: 1em;\n",
       "  padding-left: 1em;\n",
       "}\n",
       "\n",
       "\n",
       "/* Toggleable style: style used for estimator/Pipeline/ColumnTransformer box that is\n",
       "clickable and can be expanded/collapsed.\n",
       "- Pipeline and ColumnTransformer use this feature and define the default style\n",
       "- Estimators will overwrite some part of the style using the `sk-estimator` class\n",
       "*/\n",
       "\n",
       "/* Pipeline and ColumnTransformer style (default) */\n",
       "\n",
       "#sk-container-id-1 div.sk-toggleable {\n",
       "  /* Default theme specific background. It is overwritten whether we have a\n",
       "  specific estimator or a Pipeline/ColumnTransformer */\n",
       "  background-color: var(--sklearn-color-background);\n",
       "}\n",
       "\n",
       "/* Toggleable label */\n",
       "#sk-container-id-1 label.sk-toggleable__label {\n",
       "  cursor: pointer;\n",
       "  display: block;\n",
       "  width: 100%;\n",
       "  margin-bottom: 0;\n",
       "  padding: 0.5em;\n",
       "  box-sizing: border-box;\n",
       "  text-align: center;\n",
       "}\n",
       "\n",
       "#sk-container-id-1 label.sk-toggleable__label-arrow:before {\n",
       "  /* Arrow on the left of the label */\n",
       "  content: \"▸\";\n",
       "  float: left;\n",
       "  margin-right: 0.25em;\n",
       "  color: var(--sklearn-color-icon);\n",
       "}\n",
       "\n",
       "#sk-container-id-1 label.sk-toggleable__label-arrow:hover:before {\n",
       "  color: var(--sklearn-color-text);\n",
       "}\n",
       "\n",
       "/* Toggleable content - dropdown */\n",
       "\n",
       "#sk-container-id-1 div.sk-toggleable__content {\n",
       "  max-height: 0;\n",
       "  max-width: 0;\n",
       "  overflow: hidden;\n",
       "  text-align: left;\n",
       "  /* unfitted */\n",
       "  background-color: var(--sklearn-color-unfitted-level-0);\n",
       "}\n",
       "\n",
       "#sk-container-id-1 div.sk-toggleable__content.fitted {\n",
       "  /* fitted */\n",
       "  background-color: var(--sklearn-color-fitted-level-0);\n",
       "}\n",
       "\n",
       "#sk-container-id-1 div.sk-toggleable__content pre {\n",
       "  margin: 0.2em;\n",
       "  border-radius: 0.25em;\n",
       "  color: var(--sklearn-color-text);\n",
       "  /* unfitted */\n",
       "  background-color: var(--sklearn-color-unfitted-level-0);\n",
       "}\n",
       "\n",
       "#sk-container-id-1 div.sk-toggleable__content.fitted pre {\n",
       "  /* unfitted */\n",
       "  background-color: var(--sklearn-color-fitted-level-0);\n",
       "}\n",
       "\n",
       "#sk-container-id-1 input.sk-toggleable__control:checked~div.sk-toggleable__content {\n",
       "  /* Expand drop-down */\n",
       "  max-height: 200px;\n",
       "  max-width: 100%;\n",
       "  overflow: auto;\n",
       "}\n",
       "\n",
       "#sk-container-id-1 input.sk-toggleable__control:checked~label.sk-toggleable__label-arrow:before {\n",
       "  content: \"▾\";\n",
       "}\n",
       "\n",
       "/* Pipeline/ColumnTransformer-specific style */\n",
       "\n",
       "#sk-container-id-1 div.sk-label input.sk-toggleable__control:checked~label.sk-toggleable__label {\n",
       "  color: var(--sklearn-color-text);\n",
       "  background-color: var(--sklearn-color-unfitted-level-2);\n",
       "}\n",
       "\n",
       "#sk-container-id-1 div.sk-label.fitted input.sk-toggleable__control:checked~label.sk-toggleable__label {\n",
       "  background-color: var(--sklearn-color-fitted-level-2);\n",
       "}\n",
       "\n",
       "/* Estimator-specific style */\n",
       "\n",
       "/* Colorize estimator box */\n",
       "#sk-container-id-1 div.sk-estimator input.sk-toggleable__control:checked~label.sk-toggleable__label {\n",
       "  /* unfitted */\n",
       "  background-color: var(--sklearn-color-unfitted-level-2);\n",
       "}\n",
       "\n",
       "#sk-container-id-1 div.sk-estimator.fitted input.sk-toggleable__control:checked~label.sk-toggleable__label {\n",
       "  /* fitted */\n",
       "  background-color: var(--sklearn-color-fitted-level-2);\n",
       "}\n",
       "\n",
       "#sk-container-id-1 div.sk-label label.sk-toggleable__label,\n",
       "#sk-container-id-1 div.sk-label label {\n",
       "  /* The background is the default theme color */\n",
       "  color: var(--sklearn-color-text-on-default-background);\n",
       "}\n",
       "\n",
       "/* On hover, darken the color of the background */\n",
       "#sk-container-id-1 div.sk-label:hover label.sk-toggleable__label {\n",
       "  color: var(--sklearn-color-text);\n",
       "  background-color: var(--sklearn-color-unfitted-level-2);\n",
       "}\n",
       "\n",
       "/* Label box, darken color on hover, fitted */\n",
       "#sk-container-id-1 div.sk-label.fitted:hover label.sk-toggleable__label.fitted {\n",
       "  color: var(--sklearn-color-text);\n",
       "  background-color: var(--sklearn-color-fitted-level-2);\n",
       "}\n",
       "\n",
       "/* Estimator label */\n",
       "\n",
       "#sk-container-id-1 div.sk-label label {\n",
       "  font-family: monospace;\n",
       "  font-weight: bold;\n",
       "  display: inline-block;\n",
       "  line-height: 1.2em;\n",
       "}\n",
       "\n",
       "#sk-container-id-1 div.sk-label-container {\n",
       "  text-align: center;\n",
       "}\n",
       "\n",
       "/* Estimator-specific */\n",
       "#sk-container-id-1 div.sk-estimator {\n",
       "  font-family: monospace;\n",
       "  border: 1px dotted var(--sklearn-color-border-box);\n",
       "  border-radius: 0.25em;\n",
       "  box-sizing: border-box;\n",
       "  margin-bottom: 0.5em;\n",
       "  /* unfitted */\n",
       "  background-color: var(--sklearn-color-unfitted-level-0);\n",
       "}\n",
       "\n",
       "#sk-container-id-1 div.sk-estimator.fitted {\n",
       "  /* fitted */\n",
       "  background-color: var(--sklearn-color-fitted-level-0);\n",
       "}\n",
       "\n",
       "/* on hover */\n",
       "#sk-container-id-1 div.sk-estimator:hover {\n",
       "  /* unfitted */\n",
       "  background-color: var(--sklearn-color-unfitted-level-2);\n",
       "}\n",
       "\n",
       "#sk-container-id-1 div.sk-estimator.fitted:hover {\n",
       "  /* fitted */\n",
       "  background-color: var(--sklearn-color-fitted-level-2);\n",
       "}\n",
       "\n",
       "/* Specification for estimator info (e.g. \"i\" and \"?\") */\n",
       "\n",
       "/* Common style for \"i\" and \"?\" */\n",
       "\n",
       ".sk-estimator-doc-link,\n",
       "a:link.sk-estimator-doc-link,\n",
       "a:visited.sk-estimator-doc-link {\n",
       "  float: right;\n",
       "  font-size: smaller;\n",
       "  line-height: 1em;\n",
       "  font-family: monospace;\n",
       "  background-color: var(--sklearn-color-background);\n",
       "  border-radius: 1em;\n",
       "  height: 1em;\n",
       "  width: 1em;\n",
       "  text-decoration: none !important;\n",
       "  margin-left: 1ex;\n",
       "  /* unfitted */\n",
       "  border: var(--sklearn-color-unfitted-level-1) 1pt solid;\n",
       "  color: var(--sklearn-color-unfitted-level-1);\n",
       "}\n",
       "\n",
       ".sk-estimator-doc-link.fitted,\n",
       "a:link.sk-estimator-doc-link.fitted,\n",
       "a:visited.sk-estimator-doc-link.fitted {\n",
       "  /* fitted */\n",
       "  border: var(--sklearn-color-fitted-level-1) 1pt solid;\n",
       "  color: var(--sklearn-color-fitted-level-1);\n",
       "}\n",
       "\n",
       "/* On hover */\n",
       "div.sk-estimator:hover .sk-estimator-doc-link:hover,\n",
       ".sk-estimator-doc-link:hover,\n",
       "div.sk-label-container:hover .sk-estimator-doc-link:hover,\n",
       ".sk-estimator-doc-link:hover {\n",
       "  /* unfitted */\n",
       "  background-color: var(--sklearn-color-unfitted-level-3);\n",
       "  color: var(--sklearn-color-background);\n",
       "  text-decoration: none;\n",
       "}\n",
       "\n",
       "div.sk-estimator.fitted:hover .sk-estimator-doc-link.fitted:hover,\n",
       ".sk-estimator-doc-link.fitted:hover,\n",
       "div.sk-label-container:hover .sk-estimator-doc-link.fitted:hover,\n",
       ".sk-estimator-doc-link.fitted:hover {\n",
       "  /* fitted */\n",
       "  background-color: var(--sklearn-color-fitted-level-3);\n",
       "  color: var(--sklearn-color-background);\n",
       "  text-decoration: none;\n",
       "}\n",
       "\n",
       "/* Span, style for the box shown on hovering the info icon */\n",
       ".sk-estimator-doc-link span {\n",
       "  display: none;\n",
       "  z-index: 9999;\n",
       "  position: relative;\n",
       "  font-weight: normal;\n",
       "  right: .2ex;\n",
       "  padding: .5ex;\n",
       "  margin: .5ex;\n",
       "  width: min-content;\n",
       "  min-width: 20ex;\n",
       "  max-width: 50ex;\n",
       "  color: var(--sklearn-color-text);\n",
       "  box-shadow: 2pt 2pt 4pt #999;\n",
       "  /* unfitted */\n",
       "  background: var(--sklearn-color-unfitted-level-0);\n",
       "  border: .5pt solid var(--sklearn-color-unfitted-level-3);\n",
       "}\n",
       "\n",
       ".sk-estimator-doc-link.fitted span {\n",
       "  /* fitted */\n",
       "  background: var(--sklearn-color-fitted-level-0);\n",
       "  border: var(--sklearn-color-fitted-level-3);\n",
       "}\n",
       "\n",
       ".sk-estimator-doc-link:hover span {\n",
       "  display: block;\n",
       "}\n",
       "\n",
       "/* \"?\"-specific style due to the `<a>` HTML tag */\n",
       "\n",
       "#sk-container-id-1 a.estimator_doc_link {\n",
       "  float: right;\n",
       "  font-size: 1rem;\n",
       "  line-height: 1em;\n",
       "  font-family: monospace;\n",
       "  background-color: var(--sklearn-color-background);\n",
       "  border-radius: 1rem;\n",
       "  height: 1rem;\n",
       "  width: 1rem;\n",
       "  text-decoration: none;\n",
       "  /* unfitted */\n",
       "  color: var(--sklearn-color-unfitted-level-1);\n",
       "  border: var(--sklearn-color-unfitted-level-1) 1pt solid;\n",
       "}\n",
       "\n",
       "#sk-container-id-1 a.estimator_doc_link.fitted {\n",
       "  /* fitted */\n",
       "  border: var(--sklearn-color-fitted-level-1) 1pt solid;\n",
       "  color: var(--sklearn-color-fitted-level-1);\n",
       "}\n",
       "\n",
       "/* On hover */\n",
       "#sk-container-id-1 a.estimator_doc_link:hover {\n",
       "  /* unfitted */\n",
       "  background-color: var(--sklearn-color-unfitted-level-3);\n",
       "  color: var(--sklearn-color-background);\n",
       "  text-decoration: none;\n",
       "}\n",
       "\n",
       "#sk-container-id-1 a.estimator_doc_link.fitted:hover {\n",
       "  /* fitted */\n",
       "  background-color: var(--sklearn-color-fitted-level-3);\n",
       "}\n",
       "</style><div id=\"sk-container-id-1\" class=\"sk-top-container\"><div class=\"sk-text-repr-fallback\"><pre>LinearRegression()</pre><b>In a Jupyter environment, please rerun this cell to show the HTML representation or trust the notebook. <br />On GitHub, the HTML representation is unable to render, please try loading this page with nbviewer.org.</b></div><div class=\"sk-container\" hidden><div class=\"sk-item\"><div class=\"sk-estimator fitted sk-toggleable\"><input class=\"sk-toggleable__control sk-hidden--visually\" id=\"sk-estimator-id-1\" type=\"checkbox\" checked><label for=\"sk-estimator-id-1\" class=\"sk-toggleable__label fitted sk-toggleable__label-arrow fitted\">&nbsp;&nbsp;LinearRegression<a class=\"sk-estimator-doc-link fitted\" rel=\"noreferrer\" target=\"_blank\" href=\"https://scikit-learn.org/1.5/modules/generated/sklearn.linear_model.LinearRegression.html\">?<span>Documentation for LinearRegression</span></a><span class=\"sk-estimator-doc-link fitted\">i<span>Fitted</span></span></label><div class=\"sk-toggleable__content fitted\"><pre>LinearRegression()</pre></div> </div></div></div></div>"
      ],
      "text/plain": [
       "LinearRegression()"
      ]
     },
     "execution_count": 10,
     "metadata": {},
     "output_type": "execute_result"
    }
   ],
   "source": [
    "from sklearn.linear_model import LinearRegression\n",
    "regression = LinearRegression()\n",
    "regression.fit(X_train_final,y_train)"
   ]
  },
  {
   "cell_type": "code",
   "execution_count": 11,
   "id": "6c52c72f",
   "metadata": {},
   "outputs": [
    {
     "data": {
      "text/plain": [
       "0.999994205934201"
      ]
     },
     "execution_count": 11,
     "metadata": {},
     "output_type": "execute_result"
    }
   ],
   "source": [
    "from sklearn.model_selection import cross_val_score\n",
    "validation_score = cross_val_score(regression,X_train_final, y_train,scoring=\"r2\",cv=3)\n",
    "np.mean(validation_score)"
   ]
  },
  {
   "cell_type": "code",
   "execution_count": 12,
   "id": "e02999cc",
   "metadata": {},
   "outputs": [],
   "source": [
    "y_pred = regression.predict(X_test_final)"
   ]
  },
  {
   "cell_type": "code",
   "execution_count": 13,
   "id": "d5af6bb0",
   "metadata": {},
   "outputs": [
    {
     "name": "stdout",
     "output_type": "stream",
     "text": [
      "Coefficient :  [-4.36050644e-06 -2.70175693e-05  5.77231174e-01  4.32536394e-01\n",
      "  4.32907930e-01  5.76807671e-01  2.89198846e-01 -5.46476901e-01\n",
      " -2.81218562e-06 -1.30633872e-05 -8.83213736e-06 -7.11716082e-05\n",
      "  5.35613442e-06 -2.36997737e-05 -4.31479995e-05 -1.31751809e-04\n",
      " -1.81031097e-06 -8.40720953e-05 -9.75840510e-05  2.77884592e-06\n",
      " -2.97653830e-05 -1.66143917e-05 -3.43205219e-05  5.82134459e-05\n",
      " -1.97275611e-05 -1.22265536e-05 -9.15467521e-05 -2.07291555e-05\n",
      "  6.02311197e-06 -6.31508031e-05 -6.06816808e-05]\n",
      "Intercept :  4.951894029727818\n"
     ]
    }
   ],
   "source": [
    "# Printing the coefficient and intercept of Experience\n",
    "print(\"Coefficient : \",regression.coef_)\n",
    "print(\"Intercept : \",regression.intercept_)"
   ]
  },
  {
   "cell_type": "code",
   "execution_count": 14,
   "id": "851ebed5",
   "metadata": {},
   "outputs": [
    {
     "data": {
      "text/html": [
       "<div>\n",
       "<style scoped>\n",
       "    .dataframe tbody tr th:only-of-type {\n",
       "        vertical-align: middle;\n",
       "    }\n",
       "\n",
       "    .dataframe tbody tr th {\n",
       "        vertical-align: top;\n",
       "    }\n",
       "\n",
       "    .dataframe thead th {\n",
       "        text-align: right;\n",
       "    }\n",
       "</style>\n",
       "<table border=\"1\" class=\"dataframe\">\n",
       "  <thead>\n",
       "    <tr style=\"text-align: right;\">\n",
       "      <th></th>\n",
       "      <th>Features</th>\n",
       "      <th>Weights</th>\n",
       "    </tr>\n",
       "  </thead>\n",
       "  <tbody>\n",
       "    <tr>\n",
       "      <th>0</th>\n",
       "      <td>Age</td>\n",
       "      <td>-0.000004</td>\n",
       "    </tr>\n",
       "    <tr>\n",
       "      <th>1</th>\n",
       "      <td>Year</td>\n",
       "      <td>-0.000027</td>\n",
       "    </tr>\n",
       "    <tr>\n",
       "      <th>2</th>\n",
       "      <td>Genetic_Risk</td>\n",
       "      <td>0.577231</td>\n",
       "    </tr>\n",
       "    <tr>\n",
       "      <th>3</th>\n",
       "      <td>Air_Pollution</td>\n",
       "      <td>0.432536</td>\n",
       "    </tr>\n",
       "    <tr>\n",
       "      <th>4</th>\n",
       "      <td>Alcohol_Use</td>\n",
       "      <td>0.432908</td>\n",
       "    </tr>\n",
       "    <tr>\n",
       "      <th>5</th>\n",
       "      <td>Smoking</td>\n",
       "      <td>0.576808</td>\n",
       "    </tr>\n",
       "    <tr>\n",
       "      <th>6</th>\n",
       "      <td>Obesity_Level</td>\n",
       "      <td>0.289199</td>\n",
       "    </tr>\n",
       "    <tr>\n",
       "      <th>7</th>\n",
       "      <td>Treatment_Cost_USD</td>\n",
       "      <td>-0.546477</td>\n",
       "    </tr>\n",
       "    <tr>\n",
       "      <th>8</th>\n",
       "      <td>Survival_Years</td>\n",
       "      <td>-0.000003</td>\n",
       "    </tr>\n",
       "    <tr>\n",
       "      <th>9</th>\n",
       "      <td>Gender_Male</td>\n",
       "      <td>-0.000013</td>\n",
       "    </tr>\n",
       "    <tr>\n",
       "      <th>10</th>\n",
       "      <td>Gender_Other</td>\n",
       "      <td>-0.000009</td>\n",
       "    </tr>\n",
       "    <tr>\n",
       "      <th>11</th>\n",
       "      <td>Country_Region_Brazil</td>\n",
       "      <td>-0.000071</td>\n",
       "    </tr>\n",
       "    <tr>\n",
       "      <th>12</th>\n",
       "      <td>Country_Region_Canada</td>\n",
       "      <td>0.000005</td>\n",
       "    </tr>\n",
       "    <tr>\n",
       "      <th>13</th>\n",
       "      <td>Country_Region_China</td>\n",
       "      <td>-0.000024</td>\n",
       "    </tr>\n",
       "    <tr>\n",
       "      <th>14</th>\n",
       "      <td>Country_Region_Germany</td>\n",
       "      <td>-0.000043</td>\n",
       "    </tr>\n",
       "    <tr>\n",
       "      <th>15</th>\n",
       "      <td>Country_Region_India</td>\n",
       "      <td>-0.000132</td>\n",
       "    </tr>\n",
       "    <tr>\n",
       "      <th>16</th>\n",
       "      <td>Country_Region_Pakistan</td>\n",
       "      <td>-0.000002</td>\n",
       "    </tr>\n",
       "    <tr>\n",
       "      <th>17</th>\n",
       "      <td>Country_Region_Russia</td>\n",
       "      <td>-0.000084</td>\n",
       "    </tr>\n",
       "    <tr>\n",
       "      <th>18</th>\n",
       "      <td>Country_Region_UK</td>\n",
       "      <td>-0.000098</td>\n",
       "    </tr>\n",
       "    <tr>\n",
       "      <th>19</th>\n",
       "      <td>Country_Region_USA</td>\n",
       "      <td>0.000003</td>\n",
       "    </tr>\n",
       "    <tr>\n",
       "      <th>20</th>\n",
       "      <td>Cancer_Type_Cervical</td>\n",
       "      <td>-0.000030</td>\n",
       "    </tr>\n",
       "    <tr>\n",
       "      <th>21</th>\n",
       "      <td>Cancer_Type_Colon</td>\n",
       "      <td>-0.000017</td>\n",
       "    </tr>\n",
       "    <tr>\n",
       "      <th>22</th>\n",
       "      <td>Cancer_Type_Leukemia</td>\n",
       "      <td>-0.000034</td>\n",
       "    </tr>\n",
       "    <tr>\n",
       "      <th>23</th>\n",
       "      <td>Cancer_Type_Liver</td>\n",
       "      <td>0.000058</td>\n",
       "    </tr>\n",
       "    <tr>\n",
       "      <th>24</th>\n",
       "      <td>Cancer_Type_Lung</td>\n",
       "      <td>-0.000020</td>\n",
       "    </tr>\n",
       "    <tr>\n",
       "      <th>25</th>\n",
       "      <td>Cancer_Type_Prostate</td>\n",
       "      <td>-0.000012</td>\n",
       "    </tr>\n",
       "    <tr>\n",
       "      <th>26</th>\n",
       "      <td>Cancer_Type_Skin</td>\n",
       "      <td>-0.000092</td>\n",
       "    </tr>\n",
       "    <tr>\n",
       "      <th>27</th>\n",
       "      <td>Cancer_Stage_Stage I</td>\n",
       "      <td>-0.000021</td>\n",
       "    </tr>\n",
       "    <tr>\n",
       "      <th>28</th>\n",
       "      <td>Cancer_Stage_Stage II</td>\n",
       "      <td>0.000006</td>\n",
       "    </tr>\n",
       "    <tr>\n",
       "      <th>29</th>\n",
       "      <td>Cancer_Stage_Stage III</td>\n",
       "      <td>-0.000063</td>\n",
       "    </tr>\n",
       "    <tr>\n",
       "      <th>30</th>\n",
       "      <td>Cancer_Stage_Stage IV</td>\n",
       "      <td>-0.000061</td>\n",
       "    </tr>\n",
       "  </tbody>\n",
       "</table>\n",
       "</div>"
      ],
      "text/plain": [
       "                   Features   Weights\n",
       "0                       Age -0.000004\n",
       "1                      Year -0.000027\n",
       "2              Genetic_Risk  0.577231\n",
       "3             Air_Pollution  0.432536\n",
       "4               Alcohol_Use  0.432908\n",
       "5                   Smoking  0.576808\n",
       "6             Obesity_Level  0.289199\n",
       "7        Treatment_Cost_USD -0.546477\n",
       "8            Survival_Years -0.000003\n",
       "9               Gender_Male -0.000013\n",
       "10             Gender_Other -0.000009\n",
       "11    Country_Region_Brazil -0.000071\n",
       "12    Country_Region_Canada  0.000005\n",
       "13     Country_Region_China -0.000024\n",
       "14   Country_Region_Germany -0.000043\n",
       "15     Country_Region_India -0.000132\n",
       "16  Country_Region_Pakistan -0.000002\n",
       "17    Country_Region_Russia -0.000084\n",
       "18        Country_Region_UK -0.000098\n",
       "19       Country_Region_USA  0.000003\n",
       "20     Cancer_Type_Cervical -0.000030\n",
       "21        Cancer_Type_Colon -0.000017\n",
       "22     Cancer_Type_Leukemia -0.000034\n",
       "23        Cancer_Type_Liver  0.000058\n",
       "24         Cancer_Type_Lung -0.000020\n",
       "25     Cancer_Type_Prostate -0.000012\n",
       "26         Cancer_Type_Skin -0.000092\n",
       "27     Cancer_Stage_Stage I -0.000021\n",
       "28    Cancer_Stage_Stage II  0.000006\n",
       "29   Cancer_Stage_Stage III -0.000063\n",
       "30    Cancer_Stage_Stage IV -0.000061"
      ]
     },
     "execution_count": 14,
     "metadata": {},
     "output_type": "execute_result"
    }
   ],
   "source": [
    "reg_summary = pd.DataFrame(X_train_final.columns.values, columns=['Features'])\n",
    "reg_summary['Weights'] = regression.coef_\n",
    "reg_summary"
   ]
  },
  {
   "cell_type": "markdown",
   "id": "2ee49c81",
   "metadata": {},
   "source": [
    "## Step 6 : Calculate the performance metrics"
   ]
  },
  {
   "cell_type": "code",
   "execution_count": 15,
   "id": "0de36cc0",
   "metadata": {},
   "outputs": [
    {
     "name": "stdout",
     "output_type": "stream",
     "text": [
      "0.0024913007234714053\n",
      "8.282157540100343e-06\n",
      "0.002877873788076945\n",
      "0.9999942681303656\n"
     ]
    }
   ],
   "source": [
    "from sklearn.metrics import mean_absolute_error, mean_squared_error, r2_score\n",
    "mae = mean_absolute_error(y_test,y_pred)\n",
    "mse = mean_squared_error(y_test,y_pred)\n",
    "rmse = np.sqrt(mse)\n",
    "score = r2_score(y_test,y_pred)\n",
    "print(mae)\n",
    "print(mse)\n",
    "print(rmse)\n",
    "print(score)"
   ]
  },
  {
   "cell_type": "markdown",
   "id": "a8425372",
   "metadata": {},
   "source": [
    "## Step 6.1 : Formula for Adjusted R²"
   ]
  },
  {
   "cell_type": "markdown",
   "id": "935a0383",
   "metadata": {},
   "source": [
    "### Adjusted R² = 1 - [(1 - R²) * (n - 1) / (n - k - 1)] \n",
    "\n",
    "### Where:\n",
    "### R²: is the coefficient of determination (R-squared) from your model. \n",
    "### n: is the number of data points in your train dataset. \n",
    "### k: is the number of independent variables in your model. "
   ]
  },
  {
   "cell_type": "code",
   "execution_count": 16,
   "id": "2c765a0c",
   "metadata": {},
   "outputs": [
    {
     "name": "stdout",
     "output_type": "stream",
     "text": [
      "0.9999942633879733\n"
     ]
    }
   ],
   "source": [
    "adjusted_r2 = 1 - ((1 - score) * (X_train_final.shape[0] - 1) / (X_train_final.shape[0] - X_train_final.shape[1] - 1))\n",
    "print(adjusted_r2)"
   ]
  },
  {
   "cell_type": "markdown",
   "id": "beb4a9d5",
   "metadata": {},
   "source": [
    "## Step 7: Linear Regression Assumptions"
   ]
  },
  {
   "cell_type": "markdown",
   "id": "53666c1d",
   "metadata": {},
   "source": [
    "### Assumption 1 : y_test vs. y_pred doesn’t have to be linear but a nonlinear pattern could be a red flag"
   ]
  },
  {
   "cell_type": "code",
   "execution_count": 17,
   "id": "67dbc968",
   "metadata": {},
   "outputs": [
    {
     "data": {
      "text/plain": [
       "<matplotlib.collections.PathCollection at 0x15f98bf10>"
      ]
     },
     "execution_count": 17,
     "metadata": {},
     "output_type": "execute_result"
    },
    {
     "data": {
      "image/png": "[encoded data removed]",
      "text/plain": [
       "<Figure size 640x480 with 1 Axes>"
      ]
     },
     "metadata": {},
     "output_type": "display_data"
    }
   ],
   "source": [
    "plt.scatter(y_test, y_pred, alpha = 0.2)"
   ]
  },
  {
   "cell_type": "markdown",
   "id": "622409d4",
   "metadata": {},
   "source": [
    "### Assumption 2 : The residuals should be normally distributed with mean = 0"
   ]
  },
  {
   "cell_type": "code",
   "execution_count": 18,
   "id": "61e652dd",
   "metadata": {},
   "outputs": [
    {
     "data": {
      "text/plain": [
       "<seaborn.axisgrid.FacetGrid at 0x15fa19270>"
      ]
     },
     "execution_count": 18,
     "metadata": {},
     "output_type": "execute_result"
    },
    {
     "data": {
      "image/png": "[encoded data removed]",
      "text/plain": [
       "<Figure size 500x500 with 1 Axes>"
      ]
     },
     "metadata": {},
     "output_type": "display_data"
    }
   ],
   "source": [
    "residuals = y_test-y_pred\n",
    "sns.displot(residuals, kind='kde')"
   ]
  },
  {
   "cell_type": "markdown",
   "id": "88c134cf",
   "metadata": {},
   "source": [
    "### Assumption 3 : Residuals should look like random noise (no pattern). If you see a pattern, the linear model might not be suitable."
   ]
  },
  {
   "cell_type": "code",
   "execution_count": 19,
   "id": "fc49d6a6",
   "metadata": {},
   "outputs": [
    {
     "data": {
      "text/plain": [
       "<matplotlib.collections.PathCollection at 0x15fa69d20>"
      ]
     },
     "execution_count": 19,
     "metadata": {},
     "output_type": "execute_result"
    },
    {
     "data": {
      "image/png": "[encoded data removed]",
      "text/plain": [
       "<Figure size 640x480 with 1 Axes>"
      ]
     },
     "metadata": {},
     "output_type": "display_data"
    }
   ],
   "source": [
    "plt.scatter(y_pred,residuals)"
   ]
  },
  {
   "cell_type": "markdown",
   "id": "babfe59f",
   "metadata": {},
   "source": [
    "## Step 8 : Save the model using Pickle"
   ]
  },
  {
   "cell_type": "code",
   "execution_count": 20,
   "id": "0323d5e6",
   "metadata": {},
   "outputs": [],
   "source": [
    "import pickle \n",
    "pickle.dump(regression,open('multilinear_regression_model.pkl', 'wb')) # downloading the model"
   ]
  },
  {
   "cell_type": "code",
   "execution_count": 21,
   "id": "29752a46",
   "metadata": {},
   "outputs": [],
   "source": [
    "model = pickle.load(open('multilinear_regression_model.pkl','rb')) # used to load the model"
   ]
  },
  {
   "cell_type": "code",
   "execution_count": 22,
   "id": "f7a381f1",
   "metadata": {},
   "outputs": [
    {
     "name": "stdout",
     "output_type": "stream",
     "text": [
      "LinearRegression()\n"
     ]
    }
   ],
   "source": [
    "print(model)"
   ]
  },
  {
   "cell_type": "code",
   "execution_count": null,
   "id": "cf758b58",
   "metadata": {},
   "outputs": [],
   "source": []
  }
 ],
 "metadata": {
  "kernelspec": {
   "display_name": "Python 3 (ipykernel)",
   "language": "python",
   "name": "python3"
  },
  "language_info": {
   "codemirror_mode": {
    "name": "ipython",
    "version": 3
   },
   "file_extension": ".py",
   "mimetype": "text/x-python",
   "name": "python",
   "nbconvert_exporter": "python",
   "pygments_lexer": "ipython3",
   "version": "3.10.9"
  }
 },
 "nbformat": 4,
 "nbformat_minor": 5
}
